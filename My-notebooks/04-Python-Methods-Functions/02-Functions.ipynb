{
 "cells": [
  {
   "cell_type": "markdown",
   "metadata": {},
   "source": [
    "## Methods and Functions"
   ]
  },
  {
   "cell_type": "markdown",
   "metadata": {},
   "source": [
    "### Functions\n",
    "* Important: create clean and repeatable code.\n",
    "* Def: allow to create block of code to exec **without writing**\n",
    "\n",
    "* Syntax:\n",
    "`def` `name_of_function (param)` ## parameter is optional\n",
    "`\"\n",
    "Docstring explain function\n",
    "\"\n",
    "print(\"Hello\" + parameter)`\n",
    "\n",
    "Usually instead of print use `return` keyword. \n",
    "* Allow to send back result \n",
    "* Allow reassign output to new variable\n",
    "\n",
    "example: \n",
    "`def add_function (num1,num2):\n",
    "retun num1 "
   ]
  },
  {
   "cell_type": "code",
   "execution_count": null,
   "metadata": {},
   "outputs": [],
   "source": []
  }
 ],
 "metadata": {
  "kernelspec": {
   "display_name": "Python 3",
   "language": "python",
   "name": "python3"
  },
  "language_info": {
   "codemirror_mode": {
    "name": "ipython",
    "version": 3
   },
   "file_extension": ".py",
   "mimetype": "text/x-python",
   "name": "python",
   "nbconvert_exporter": "python",
   "pygments_lexer": "ipython3",
   "version": "3.7.1"
  }
 },
 "nbformat": 4,
 "nbformat_minor": 2
}
